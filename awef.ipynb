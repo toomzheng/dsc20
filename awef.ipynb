{
 "cells": [
  {
   "cell_type": "code",
   "execution_count": 4,
   "metadata": {},
   "outputs": [
    {
     "name": "stdout",
     "output_type": "stream",
     "text": [
      "<class 'list'>\n",
      "['12', '12', '12']\n"
     ]
    }
   ],
   "source": [
    "def total_for_painting(prices):\n",
    "    \"\"\"\n",
    "    Calculates the total price of paintings given a string of \n",
    "    integers.\n",
    "    --\n",
    "    Parameters:\n",
    "        prices: a string of postive integers\n",
    "    --\n",
    "    Returns:\n",
    "        An integer representing the total of the integers\n",
    "    >>> prices = \"10 20 30 3\"\n",
    "    >>> total_for_painting(prices)\n",
    "    63\n",
    "\n",
    "    >>> prices = \"1 2 -3\"\n",
    "    >>> total_for_painting(prices)\n",
    "    0\n",
    "\n",
    "    >>> prices = \"\"\n",
    "    >>> total_for_painting(prices)\n",
    "    0\n",
    "    \"\"\"\n",
    "    # YOUR CODE GOES HERE #\n",
    "    i=prices.split()\n",
    "    print(type(i))\n",
    "    print(i)\n",
    "\n",
    "total_for_painting(\"12 12 12\")\n"
   ]
  },
  {
   "cell_type": "code",
   "execution_count": null,
   "metadata": {},
   "outputs": [],
   "source": []
  },
  {
   "cell_type": "code",
   "execution_count": null,
   "metadata": {},
   "outputs": [],
   "source": []
  },
  {
   "cell_type": "code",
   "execution_count": null,
   "metadata": {},
   "outputs": [],
   "source": []
  },
  {
   "cell_type": "code",
   "execution_count": null,
   "metadata": {},
   "outputs": [],
   "source": []
  }
 ],
 "metadata": {
  "kernelspec": {
   "display_name": "Python 3",
   "language": "python",
   "name": "python3"
  },
  "language_info": {
   "codemirror_mode": {
    "name": "ipython",
    "version": 3
   },
   "file_extension": ".py",
   "mimetype": "text/x-python",
   "name": "python",
   "nbconvert_exporter": "python",
   "pygments_lexer": "ipython3",
   "version": "3.12.4"
  }
 },
 "nbformat": 4,
 "nbformat_minor": 2
}
